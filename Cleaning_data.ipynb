{
  "nbformat": 4,
  "nbformat_minor": 0,
  "metadata": {
    "colab": {
      "provenance": []
    },
    "kernelspec": {
      "name": "python3",
      "display_name": "Python 3"
    },
    "language_info": {
      "name": "python"
    }
  },
  "cells": [
    {
      "cell_type": "code",
      "execution_count": null,
      "metadata": {
        "colab": {
          "base_uri": "https://localhost:8080/"
        },
        "id": "7ZgKmZHltioa",
        "outputId": "f9bbbd1a-471b-48e1-d03b-3a46ad73ff05"
      },
      "outputs": [
        {
          "output_type": "stream",
          "name": "stdout",
          "text": [
            "Initial dataset:\n",
            "   Stars                                              Title  \\\n",
            "0    5.0     5.0 out of 5 stars\\nVery Great Processor . . .   \n",
            "1    5.0   5.0 out of 5 stars\\nBest CPU for Budget Ballers.   \n",
            "2    5.0               5.0 out of 5 stars\\nGot it under 10k   \n",
            "3    4.0  4.0 out of 5 stars\\nNo discrete graphics in th...   \n",
            "4    5.0  5.0 out of 5 stars\\nHighest Price to Performan...   \n",
            "\n",
            "                                         Description  \n",
            "0  The processor was very power efficient i devel...  \n",
            "1  This processor is great mid to high range budg...  \n",
            "2  Try to get it under 10k and check the rankings...  \n",
            "3  This will not work without graphic card, So be...  \n",
            "4  I upgrade from 9400f. The performance gain is ...  \n",
            "\n",
            "Missing values:\n",
            "Stars          0\n",
            "Title          0\n",
            "Description    2\n",
            "dtype: int64\n",
            "\n",
            "Cleaned dataset:\n",
            "   Stars                                              Title  \\\n",
            "0    5.0     5.0 out of 5 stars\\nVery Great Processor . . .   \n",
            "1    5.0   5.0 out of 5 stars\\nBest CPU for Budget Ballers.   \n",
            "2    5.0               5.0 out of 5 stars\\nGot it under 10k   \n",
            "3    4.0  4.0 out of 5 stars\\nNo discrete graphics in th...   \n",
            "4    5.0  5.0 out of 5 stars\\nHighest Price to Performan...   \n",
            "\n",
            "                                         Description  \n",
            "0  the processor was very power efficient i devel...  \n",
            "1  this processor is great mid to high range budg...  \n",
            "2  try to get it under 10k and check the rankings...  \n",
            "3  this will not work without graphic card, so be...  \n",
            "4  i upgrade from 9400f. the performance gain is ...  \n",
            "\n",
            "Cleaned data saved to 'cleaned_data.csv'\n"
          ]
        }
      ],
      "source": [
        "import pandas as pd\n",
        "\n",
        "df = pd.read_csv('amazon_reviews (2).csv', encoding='latin-1')\n",
        "print(\"Initial dataset:\")\n",
        "print(df.head())\n",
        "\n",
        "print(\"\\nMissing values:\")\n",
        "print(df.isnull().sum())\n",
        "\n",
        "df.drop_duplicates(inplace=True)\n",
        "\n",
        "df['Description'] = df['Description'].str.replace('[^a-zA-Z\\s]', '').str.lower()\n",
        "\n",
        "print(\"\\nCleaned dataset:\")\n",
        "print(df.head())\n",
        "\n",
        "df.to_csv('cleaned_data.csv', index=False)\n",
        "print(\"\\nCleaned data saved to 'cleaned_data.csv'\")\n"
      ]
    }
  ]
}